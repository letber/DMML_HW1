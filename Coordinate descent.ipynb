{
 "cells": [
  {
   "cell_type": "code",
   "execution_count": 4,
   "metadata": {},
   "outputs": [],
   "source": [
    "from typing import List\n",
    "import numdifftools as nd\n",
    "import math as m\n",
    "import numpy as np"
   ]
  },
  {
   "cell_type": "code",
   "execution_count": 5,
   "metadata": {},
   "outputs": [],
   "source": [
    "def objective(x: List[float]):\n",
    "    return 0.5*x[0]**4-x[0]*x[1]+x[1]**2+x[1]*x[2]+x[2]**2\n",
    "\n",
    "def argmin_x1(x):\n",
    "    return(np.cbrt(0.5*x[1]))\n",
    "\n",
    "def argmin_x2(x):\n",
    "    return((x[0]-x[2])/2)\n",
    "\n",
    "def argmin_x3(x):\n",
    "    return(-0.5*x[1])\n",
    "\n",
    "def coordinate_descent (objective, argmin_x, x_0, max_iter):\n",
    "    global time, i\n",
    "    for time in range(max_iter):\n",
    "        for i in range (3):\n",
    "            x_0[i]=argmin_x[i](x_0)\n",
    "    return x_0"
   ]
  },
  {
   "cell_type": "code",
   "execution_count": 6,
   "metadata": {},
   "outputs": [
    {
     "name": "stdout",
     "output_type": "stream",
     "text": [
      "first iteration: [2.154434690031884, -1.422782654984058, 0.711391327492029]\n",
      "[-0.5773502691896258, -0.3849001794597506, 0.1924500897298753]\n"
     ]
    }
   ],
   "source": [
    "argmin_x = [argmin_x1, argmin_x2, argmin_x3]\n",
    "max_iter=100\n",
    "time=0\n",
    "i=0\n",
    "x_0=[1,20,5]\n",
    "\n",
    "print('first iteration:',coordinate_descent (objective, argmin_x, x_0, 1))\n",
    "\n",
    "time=0\n",
    "i=0\n",
    "x_0=[1,20,5]\n",
    "print(coordinate_descent (objective, argmin_x, x_0, max_iter))"
   ]
  }
 ],
 "metadata": {
  "kernelspec": {
   "display_name": "base",
   "language": "python",
   "name": "python3"
  },
  "language_info": {
   "codemirror_mode": {
    "name": "ipython",
    "version": 3
   },
   "file_extension": ".py",
   "mimetype": "text/x-python",
   "name": "python",
   "nbconvert_exporter": "python",
   "pygments_lexer": "ipython3",
   "version": "3.11.5"
  }
 },
 "nbformat": 4,
 "nbformat_minor": 2
}
