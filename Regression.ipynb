{
 "cells": [
  {
   "cell_type": "code",
   "execution_count": 4,
   "metadata": {},
   "outputs": [],
   "source": [
    "import numpy as np\n",
    "import sklearn\n",
    "# print('The scikit-learn version is {}.'.format(sklearn.__version__))\n",
    "\n",
    "from sklearn.datasets import fetch_california_housing\n",
    "california = fetch_california_housing()\n",
    "\n",
    "# print(california.DESCR)"
   ]
  },
  {
   "cell_type": "code",
   "execution_count": 12,
   "metadata": {},
   "outputs": [
    {
     "name": "stdout",
     "output_type": "stream",
     "text": [
      "20640 8\n"
     ]
    }
   ],
   "source": [
    "D = california.data\n",
    "y = california.target\n",
    "n,d = D.shape\n",
    "print(n,d)\n",
    "\n",
    "from sklearn.preprocessing import PolynomialFeatures, StandardScaler\n",
    "scaler = StandardScaler()\n",
    "scaler.fit(D)\n",
    "scaled_data = scaler.transform(D)\n",
    "\n",
    "aff = PolynomialFeatures(2,include_bias=True)\n",
    "X = aff.fit_transform(scaled_data)\n",
    "\n",
    "features_list = aff.get_feature_names_out(california.feature_names)"
   ]
  },
  {
   "cell_type": "code",
   "execution_count": 25,
   "metadata": {},
   "outputs": [
    {
     "name": "stdout",
     "output_type": "stream",
     "text": [
      " beta_MedInc = 0.9224368884326274,\n",
      " beta_MedIncAveBedrms = -0.16758435804279365,\n",
      " beta_HouseAgeAveBedrms = 0.06328854538466351\n"
     ]
    }
   ],
   "source": [
    "X_transpose = np.transpose(X)\n",
    "beta = np.matmul(np.matmul(np.linalg.inv(np.matmul(X_transpose, X)), X_transpose), y)\n",
    "\n",
    "def find_needed_betas(beta, features_list=features_list):\n",
    "    beta_MedInc = beta[np.where(features_list == 'MedInc')[0][0]]\n",
    "    beta_MedIncAveBedrms = beta[np.where(features_list == 'MedInc AveBedrms')[0][0]]\n",
    "    beta_HouseAgeAveBedrms = beta[np.where(features_list == 'HouseAge AveBedrms')[0][0]]\n",
    "\n",
    "    print(f' beta_MedInc = {beta_MedInc},\\n beta_MedIncAveBedrms = {beta_MedIncAveBedrms},\\n beta_HouseAgeAveBedrms = {beta_HouseAgeAveBedrms}')\n",
    "\n",
    "find_needed_betas(beta)"
   ]
  },
  {
   "cell_type": "code",
   "execution_count": 26,
   "metadata": {},
   "outputs": [
    {
     "name": "stdout",
     "output_type": "stream",
     "text": [
      " beta_MedInc = 0.9239434176356263,\n",
      " beta_MedIncAveBedrms = -0.1667436044503461,\n",
      " beta_HouseAgeAveBedrms = 0.06458354695657174\n"
     ]
    }
   ],
   "source": [
    "lamb = 0.1\n",
    "n = len(features_list)\n",
    "beta_ridge = np.matmul(np.matmul(np.linalg.inv(np.matmul(X_transpose, X) + 2 * lamb * n), X_transpose), y)\n",
    "\n",
    "find_needed_betas(beta_ridge)\n"
   ]
  }
 ],
 "metadata": {
  "kernelspec": {
   "display_name": "venv",
   "language": "python",
   "name": "python3"
  },
  "language_info": {
   "codemirror_mode": {
    "name": "ipython",
    "version": 3
   },
   "file_extension": ".py",
   "mimetype": "text/x-python",
   "name": "python",
   "nbconvert_exporter": "python",
   "pygments_lexer": "ipython3",
   "version": "3.11.5"
  }
 },
 "nbformat": 4,
 "nbformat_minor": 2
}
