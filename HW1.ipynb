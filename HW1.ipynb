{
 "cells": [
  {
   "cell_type": "markdown",
   "metadata": {},
   "source": [
    "# HW1 for Data mining and machine learning - 2IIG0 (2023-2024)\n",
    "\n",
    "This jupyter notebook is the homework assignment 1 for course 2IIG0 completed by:\\\n",
    "\\\n",
    "-Danylo Nevmerzhytskyi 2053306\\\n",
    "-Danylo Hotskivskyi 2059908"
   ]
  },
  {
   "cell_type": "markdown",
   "metadata": {},
   "source": [
    "# Libraries"
   ]
  },
  {
   "cell_type": "code",
   "execution_count": 1,
   "metadata": {},
   "outputs": [],
   "source": [
    "from typing import List\n",
    "import numdifftools as nd\n",
    "import math as m\n",
    "import numpy as np"
   ]
  },
  {
   "cell_type": "markdown",
   "metadata": {},
   "source": [
    "## Gradient descent"
   ]
  },
  {
   "cell_type": "code",
   "execution_count": 2,
   "metadata": {},
   "outputs": [],
   "source": [
    "def objective_func(x: List[float]):\n",
    "    \"\"\"\n",
    "    Simply defining objective_func as function f.\n",
    "    \"\"\"\n",
    "    return -np.log(1/(1 + np.exp(-x[0] - x[1])))-np.log(1/(1 + np.exp(-1.5*x[0] - x[1])))-np.log(1/(1 + np.exp(2*x[0] + x[1])))\n",
    "\n",
    "def grad_f(w: float,b: float) -> List[float]:\n",
    "    \"\"\"\n",
    "    The function computes the gradient of objective_funct at given point.\n",
    "\n",
    "    :param w (float): x[0] variable of vector x.\n",
    "    :param b (float): x[1] variable of vector x.\n",
    "\n",
    "    :return (List[float]): gradient of objective_func as a list.\n",
    "    \"\"\"\n",
    "    return nd.Gradient(objective_func)([w,b])\n",
    "\n",
    "def eta_const(time: int, milestones: List[int], c: float, eta_init: float) -> float:\n",
    "    return(c)\n",
    "\n",
    "def eta_sqrt(time: int, milestones: List[int], c: float, eta_init: float) -> float:\n",
    "    return(c/np.sqrt(time+1))\n",
    "\n",
    "def eta_multistep(time: int, milestones: List[int], c: float, eta_init: float) -> float:\n",
    "    global i, eta_value\n",
    "    if (time == 0): eta_value+=eta_init\n",
    "    if (time == milestones[i]):\n",
    "        eta_value*=c\n",
    "        if (len(milestones) > i+1): i+=1\n",
    "    return eta_value\n",
    "\n",
    "def gradient_descent(objective_func, grad_f, eta, w, b, max_iter):\n",
    "    global time, milestones, c, eta_init, min_f\n",
    "    min_f = objective_func([w,b])\n",
    "    for time in range (max_iter):\n",
    "        w=w-eta(time,milestones,c,eta_init)*grad_f(w,b)[0]\n",
    "        b=b-eta(time,milestones,c,eta_init)*grad_f(w,b)[1]\n",
    "        if (objective_func([w,b]) < min_f): min_f = objective_func([w,b])\n",
    "    return objective_func([w,b])"
   ]
  },
  {
   "cell_type": "code",
   "execution_count": 170,
   "metadata": {},
   "outputs": [
    {
     "name": "stdout",
     "output_type": "stream",
     "text": [
      "1.041081605211934 minimum was 1.041081605211934\n",
      "1.6779773681108858 minimum was 1.6779773681108858\n",
      "1.2815789372130764 minimum was 1.2815789372130764\n"
     ]
    }
   ],
   "source": [
    "# counter i and global eta for return in eta_multistep\n",
    "i=0\n",
    "eta_value=0\n",
    "time=0\n",
    "milestones=[20,50,80]\n",
    "c=0.2\n",
    "eta_init=0.2\n",
    "w=1\n",
    "b=1\n",
    "max_iter=100\n",
    "min_f=0\n",
    "\n",
    "print(gradient_descent(objective_func, grad_f, eta_const, w, b, max_iter), 'minimum was', min_f)\n",
    "print(gradient_descent(objective_func, grad_f, eta_sqrt, w, b, max_iter), 'minimum was', min_f)\n",
    "print(gradient_descent(objective_func, grad_f, eta_multistep, w, b, max_iter), 'minimum was', min_f)"
   ]
  },
  {
   "cell_type": "markdown",
   "metadata": {},
   "source": [
    "## Coordinate descent"
   ]
  },
  {
   "cell_type": "code",
   "execution_count": 171,
   "metadata": {},
   "outputs": [],
   "source": [
    "def objective(x: List[float]):\n",
    "    return 0.5*x[0]**4-x[0]*x[1]+x[1]**2+x[1]*x[2]+x[2]**2\n",
    "\n",
    "def argmin_x1(x):\n",
    "    return(np.cbrt(0.5*x[1]))\n",
    "\n",
    "def argmin_x2(x):\n",
    "    return((x[0]-x[2])/2)\n",
    "\n",
    "def argmin_x3(x):\n",
    "    return(-0.5*x[1])\n",
    "\n",
    "def coordinate_descent (objective, argmin_x, x_0, max_iter):\n",
    "    global time, i\n",
    "    for time in range(max_iter):\n",
    "        for i in range (3):\n",
    "            x_0[i]=argmin_x[i](x_0)\n",
    "    return x_0"
   ]
  },
  {
   "cell_type": "code",
   "execution_count": 172,
   "metadata": {},
   "outputs": [
    {
     "name": "stdout",
     "output_type": "stream",
     "text": [
      "first iteration: [2.154434690031884, -1.422782654984058, 0.711391327492029]\n",
      "[-0.5773502691896258, -0.3849001794597506, 0.1924500897298753]\n"
     ]
    }
   ],
   "source": [
    "argmin_x = [argmin_x1, argmin_x2, argmin_x3]\n",
    "max_iter=100\n",
    "time=0\n",
    "i=0\n",
    "x_0=[1,20,5]\n",
    "\n",
    "print('first iteration:',coordinate_descent (objective, argmin_x, x_0, 1))\n",
    "\n",
    "time=0\n",
    "i=0\n",
    "x_0=[1,20,5]\n",
    "print(coordinate_descent (objective, argmin_x, x_0, max_iter))"
   ]
  }
 ],
 "metadata": {
  "kernelspec": {
   "display_name": "Python 3",
   "language": "python",
   "name": "python3"
  },
  "language_info": {
   "codemirror_mode": {
    "name": "ipython",
    "version": 3
   },
   "file_extension": ".py",
   "mimetype": "text/x-python",
   "name": "python",
   "nbconvert_exporter": "python",
   "pygments_lexer": "ipython3",
   "version": "3.11.5"
  }
 },
 "nbformat": 4,
 "nbformat_minor": 2
}
