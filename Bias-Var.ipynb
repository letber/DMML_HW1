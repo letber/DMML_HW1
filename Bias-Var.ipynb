{
 "cells": [
  {
   "cell_type": "code",
   "execution_count": 1,
   "metadata": {},
   "outputs": [],
   "source": [
    "import numpy as np"
   ]
  },
  {
   "cell_type": "code",
   "execution_count": 3,
   "metadata": {},
   "outputs": [],
   "source": [
    "def true_regression_func(x):\n",
    "    return np.tan(np.pi * x)\n",
    "\n",
    "def f_D1(x):\n",
    "    return x + 0.2\n",
    "\n",
    "def f_D2(x):\n",
    "    return 3 * x + 0.3\n",
    "\n",
    "def f_D3(x):\n",
    "    return 5 * x + 0.1\n",
    "\n",
    "def expct_D(x):\n",
    "    return (f_D1(x) + f_D2(x) + f_D3(x)) / 3"
   ]
  },
  {
   "cell_type": "code",
   "execution_count": 4,
   "metadata": {},
   "outputs": [
    {
     "name": "stdout",
     "output_type": "stream",
     "text": [
      " Squared bias is = 0.039999999999999994,\n",
      " Variance is = 0.006666666666666665\n"
     ]
    }
   ],
   "source": [
    "x_0 = 0\n",
    "\n",
    "bias_squared = expct_D(x_0) ** 2\n",
    "variance = ((expct_D(x_0) - f_D1(x_0)) ** 2 + (expct_D(x_0) - f_D2(x_0)) ** 2 + (expct_D(x_0) - f_D3(x_0)) ** 2) / 3\n",
    "\n",
    "print(f' Squared bias is = {bias_squared},\\n Variance is = {variance}')"
   ]
  }
 ],
 "metadata": {
  "kernelspec": {
   "display_name": "venv",
   "language": "python",
   "name": "python3"
  },
  "language_info": {
   "codemirror_mode": {
    "name": "ipython",
    "version": 3
   },
   "file_extension": ".py",
   "mimetype": "text/x-python",
   "name": "python",
   "nbconvert_exporter": "python",
   "pygments_lexer": "ipython3",
   "version": "3.11.5"
  }
 },
 "nbformat": 4,
 "nbformat_minor": 2
}
