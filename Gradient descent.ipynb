{
 "cells": [
  {
   "cell_type": "code",
   "execution_count": 12,
   "metadata": {},
   "outputs": [],
   "source": [
    "from typing import List\n",
    "import numdifftools as nd\n",
    "import math as m\n",
    "import numpy as np"
   ]
  },
  {
   "cell_type": "code",
   "execution_count": 13,
   "metadata": {},
   "outputs": [],
   "source": [
    "def objective_func(x: List[float]):\n",
    "    \"\"\"\n",
    "    Simply defining objective_func as function f.\n",
    "    \"\"\"\n",
    "    return -np.log(1/(1 + np.exp(-x[0] - x[1])))-np.log(1/(1 + np.exp(-1.5*x[0] - x[1])))-np.log(1/(1 + np.exp(2*x[0] + x[1])))\n",
    "\n",
    "def grad_f(w: float,b: float) -> List[float]:\n",
    "    \"\"\"\n",
    "    The function computes the gradient of objective_funct at given point.\n",
    "\n",
    "    :param w (float): x[0] variable of vector x.\n",
    "    :param b (float): x[1] variable of vector x.\n",
    "\n",
    "    :return (List[float]): gradient of objective_func as a list.\n",
    "    \"\"\"\n",
    "    return nd.Gradient(objective_func)([w,b])\n",
    "\n",
    "def eta_const(time: int, milestones: List[int], c: float, eta_init: float) -> float:\n",
    "    return(c)\n",
    "\n",
    "def eta_sqrt(time: int, milestones: List[int], c: float, eta_init: float) -> float:\n",
    "    return(c/m.sqrt(time+1))\n",
    "\n",
    "def eta_multistep(time: int, milestones: List[int], c: float, eta_init: float) -> float:\n",
    "    global i, eta_value\n",
    "    if (time == 0): eta_value+=eta_init\n",
    "    if (time == milestones[i]):\n",
    "        eta_value*=c\n",
    "        if (len(milestones) > i+1): i+=1\n",
    "    return eta_value\n",
    "\n",
    "def gradient_descent(objective_func, grad_f, eta, w, b, max_iter):\n",
    "    global time, milestones, c, eta_init, min_f\n",
    "    min_f = objective_func([w,b])\n",
    "    for time in range (max_iter):\n",
    "        w=w-eta(time,milestones,c,eta_init)*grad_f(w,b)[0]\n",
    "        b=b-eta(time,milestones,c,eta_init)*grad_f(w,b)[1]\n",
    "        if (objective_func([w,b]) < min_f): min_f = objective_func([w,b])\n",
    "    return objective_func([w,b])"
   ]
  },
  {
   "cell_type": "code",
   "execution_count": 14,
   "metadata": {},
   "outputs": [
    {
     "name": "stdout",
     "output_type": "stream",
     "text": [
      "1.041081605211919 minimum was 1.041081605211919\n",
      "1.6779773681108923 minimum was 1.6779773681108923\n",
      "1.2815789372130728 minimum was 1.2815789372130728\n"
     ]
    }
   ],
   "source": [
    "# counter i and global eta for return in eta_multistep\n",
    "i=0\n",
    "eta_value=0\n",
    "time=0\n",
    "milestones=[20,50,80]\n",
    "c=0.2\n",
    "eta_init=0.2\n",
    "w=1\n",
    "b=1\n",
    "max_iter=100\n",
    "min_f=0\n",
    "\n",
    "print(gradient_descent(objective_func, grad_f, eta_const, w, b, max_iter), 'minimum was', min_f)\n",
    "print(gradient_descent(objective_func, grad_f, eta_sqrt, w, b, max_iter), 'minimum was', min_f)\n",
    "print(gradient_descent(objective_func, grad_f, eta_multistep, w, b, max_iter), 'minimum was', min_f)"
   ]
  }
 ],
 "metadata": {
  "kernelspec": {
   "display_name": "base",
   "language": "python",
   "name": "python3"
  },
  "language_info": {
   "codemirror_mode": {
    "name": "ipython",
    "version": 3
   },
   "file_extension": ".py",
   "mimetype": "text/x-python",
   "name": "python",
   "nbconvert_exporter": "python",
   "pygments_lexer": "ipython3",
   "version": "3.11.5"
  }
 },
 "nbformat": 4,
 "nbformat_minor": 2
}
